{
 "cells": [
  {
   "cell_type": "code",
   "execution_count": 1,
   "metadata": {
    "_cell_guid": "b1076dfc-b9ad-4769-8c92-a6c4dae69d19",
    "_uuid": "8f2839f25d086af736a60e9eeb907d3b93b6e0e5",
    "execution": {
     "iopub.execute_input": "2021-01-28T04:39:09.011135Z",
     "iopub.status.busy": "2021-01-28T04:39:09.010168Z",
     "iopub.status.idle": "2021-01-28T04:39:09.019118Z",
     "shell.execute_reply": "2021-01-28T04:39:09.018454Z"
    },
    "papermill": {
     "duration": 0.041529,
     "end_time": "2021-01-28T04:39:09.019223",
     "exception": false,
     "start_time": "2021-01-28T04:39:08.977694",
     "status": "completed"
    },
    "tags": []
   },
   "outputs": [
    {
     "name": "stdout",
     "output_type": "stream",
     "text": [
      "/kaggle/input/house-prices-advanced-regression-techniques/sample_submission.csv\n",
      "/kaggle/input/house-prices-advanced-regression-techniques/data_description.txt\n",
      "/kaggle/input/house-prices-advanced-regression-techniques/train.csv\n",
      "/kaggle/input/house-prices-advanced-regression-techniques/test.csv\n"
     ]
    }
   ],
   "source": [
    "# This Python 3 environment comes with many helpful analytics libraries installed\n",
    "# It is defined by the kaggle/python Docker image: https://github.com/kaggle/docker-python\n",
    "# For example, here's several helpful packages to load\n",
    "\n",
    "import numpy as np # linear algebra\n",
    "import pandas as pd # data processing, CSV file I/O (e.g. pd.read_csv)\n",
    "\n",
    "# Input data files are available in the read-only \"../input/\" directory\n",
    "# For example, running this (by clicking run or pressing Shift+Enter) will list all files under the input directory\n",
    "\n",
    "import os\n",
    "for dirname, _, filenames in os.walk('/kaggle/input'):\n",
    "    for filename in filenames:\n",
    "        print(os.path.join(dirname, filename))\n",
    "\n",
    "# You can write up to 20GB to the current directory (/kaggle/working/) that gets preserved as output when you create a version using \"Save & Run All\" \n",
    "# You can also write temporary files to /kaggle/temp/, but they won't be saved outside of the current session"
   ]
  },
  {
   "cell_type": "markdown",
   "metadata": {
    "papermill": {
     "duration": 0.018915,
     "end_time": "2021-01-28T04:39:09.058311",
     "exception": false,
     "start_time": "2021-01-28T04:39:09.039396",
     "status": "completed"
    },
    "tags": []
   },
   "source": [
    "## Importing necessary libraries"
   ]
  },
  {
   "cell_type": "code",
   "execution_count": 2,
   "metadata": {
    "execution": {
     "iopub.execute_input": "2021-01-28T04:39:09.099486Z",
     "iopub.status.busy": "2021-01-28T04:39:09.098865Z",
     "iopub.status.idle": "2021-01-28T04:39:11.451117Z",
     "shell.execute_reply": "2021-01-28T04:39:11.451586Z"
    },
    "papermill": {
     "duration": 2.374282,
     "end_time": "2021-01-28T04:39:11.451759",
     "exception": false,
     "start_time": "2021-01-28T04:39:09.077477",
     "status": "completed"
    },
    "tags": []
   },
   "outputs": [],
   "source": [
    "\n",
    "import numpy as np\n",
    "import pandas as pd \n",
    "import matplotlib.pyplot as plt\n",
    "import seaborn as sns\n",
    "%matplotlib inline\n",
    "from scipy.stats import skew\n",
    "from scipy.stats import uniform\n",
    "\n",
    "from xgboost import XGBRegressor\n",
    "from sklearn.kernel_ridge import KernelRidge\n",
    "from sklearn.model_selection import RandomizedSearchCV\n",
    "from sklearn.feature_selection import RFECV\n",
    "from sklearn.preprocessing import RobustScaler\n",
    "from sklearn.metrics import make_scorer \n",
    "\n",
    "# ignore Deprecation Warning\n",
    "import warnings\n",
    "warnings.filterwarnings(\"ignore\", category=DeprecationWarning) "
   ]
  },
  {
   "cell_type": "markdown",
   "metadata": {
    "papermill": {
     "duration": 0.018985,
     "end_time": "2021-01-28T04:39:11.490480",
     "exception": false,
     "start_time": "2021-01-28T04:39:11.471495",
     "status": "completed"
    },
    "tags": []
   },
   "source": [
    "# Loading the data"
   ]
  },
  {
   "cell_type": "code",
   "execution_count": 3,
   "metadata": {
    "execution": {
     "iopub.execute_input": "2021-01-28T04:39:11.532827Z",
     "iopub.status.busy": "2021-01-28T04:39:11.531928Z",
     "iopub.status.idle": "2021-01-28T04:39:11.665895Z",
     "shell.execute_reply": "2021-01-28T04:39:11.666529Z"
    },
    "papermill": {
     "duration": 0.156865,
     "end_time": "2021-01-28T04:39:11.666699",
     "exception": false,
     "start_time": "2021-01-28T04:39:11.509834",
     "status": "completed"
    },
    "tags": []
   },
   "outputs": [
    {
     "data": {
      "text/plain": [
       "((1460, 81),\n",
       " (1459, 80),\n",
       " array(['Id', 'MSSubClass', 'MSZoning', 'LotFrontage', 'LotArea', 'Street',\n",
       "        'Alley', 'LotShape', 'LandContour', 'Utilities', 'LotConfig',\n",
       "        'LandSlope', 'Neighborhood', 'Condition1', 'Condition2',\n",
       "        'BldgType', 'HouseStyle', 'OverallQual', 'OverallCond',\n",
       "        'YearBuilt', 'YearRemodAdd', 'RoofStyle', 'RoofMatl',\n",
       "        'Exterior1st', 'Exterior2nd', 'MasVnrType', 'MasVnrArea',\n",
       "        'ExterQual', 'ExterCond', 'Foundation', 'BsmtQual', 'BsmtCond',\n",
       "        'BsmtExposure', 'BsmtFinType1', 'BsmtFinSF1', 'BsmtFinType2',\n",
       "        'BsmtFinSF2', 'BsmtUnfSF', 'TotalBsmtSF', 'Heating', 'HeatingQC',\n",
       "        'CentralAir', 'Electrical', '1stFlrSF', '2ndFlrSF', 'LowQualFinSF',\n",
       "        'GrLivArea', 'BsmtFullBath', 'BsmtHalfBath', 'FullBath',\n",
       "        'HalfBath', 'BedroomAbvGr', 'KitchenAbvGr', 'KitchenQual',\n",
       "        'TotRmsAbvGrd', 'Functional', 'Fireplaces', 'FireplaceQu',\n",
       "        'GarageType', 'GarageYrBlt', 'GarageFinish', 'GarageCars',\n",
       "        'GarageArea', 'GarageQual', 'GarageCond', 'PavedDrive',\n",
       "        'WoodDeckSF', 'OpenPorchSF', 'EnclosedPorch', '3SsnPorch',\n",
       "        'ScreenPorch', 'PoolArea', 'PoolQC', 'Fence', 'MiscFeature',\n",
       "        'MiscVal', 'MoSold', 'YrSold', 'SaleType', 'SaleCondition',\n",
       "        'SalePrice'], dtype=object))"
      ]
     },
     "execution_count": 3,
     "metadata": {},
     "output_type": "execute_result"
    }
   ],
   "source": [
    "df_train = pd.read_csv(r'../input/house-prices-advanced-regression-techniques/train.csv')\n",
    "df_test = pd.read_csv(r'../input/house-prices-advanced-regression-techniques/test.csv')\n",
    "df = df_train.append(df_test , ignore_index = True)\n",
    "df_train.shape, df_test.shape, df_train.columns.values"
   ]
  },
  {
   "cell_type": "markdown",
   "metadata": {
    "papermill": {
     "duration": 0.030126,
     "end_time": "2021-01-28T04:39:11.727276",
     "exception": false,
     "start_time": "2021-01-28T04:39:11.697150",
     "status": "completed"
    },
    "tags": []
   },
   "source": [
    "## Note :- Here I would like to put forward that the evaluation metric at the end would be RMSE of the logarithm of predictions of the final sale price. For exploration we log-transform the sale price and convert it back at the end."
   ]
  },
  {
   "cell_type": "code",
   "execution_count": 4,
   "metadata": {
    "execution": {
     "iopub.execute_input": "2021-01-28T04:39:11.790049Z",
     "iopub.status.busy": "2021-01-28T04:39:11.789241Z",
     "iopub.status.idle": "2021-01-28T04:39:11.793546Z",
     "shell.execute_reply": "2021-01-28T04:39:11.794326Z"
    },
    "papermill": {
     "duration": 0.037204,
     "end_time": "2021-01-28T04:39:11.794461",
     "exception": false,
     "start_time": "2021-01-28T04:39:11.757257",
     "status": "completed"
    },
    "tags": []
   },
   "outputs": [],
   "source": [
    "df.SalePrice = np.log(df.SalePrice)"
   ]
  },
  {
   "cell_type": "code",
   "execution_count": 5,
   "metadata": {
    "execution": {
     "iopub.execute_input": "2021-01-28T04:39:11.857382Z",
     "iopub.status.busy": "2021-01-28T04:39:11.856547Z",
     "iopub.status.idle": "2021-01-28T04:39:11.860052Z",
     "shell.execute_reply": "2021-01-28T04:39:11.859175Z"
    },
    "papermill": {
     "duration": 0.036,
     "end_time": "2021-01-28T04:39:11.860186",
     "exception": false,
     "start_time": "2021-01-28T04:39:11.824186",
     "status": "completed"
    },
    "tags": []
   },
   "outputs": [],
   "source": [
    "#!pip install pandas_profiling\n",
    "#from pandas_profiling import ProfileReport\n",
    "#report = ProfileReport(df_train, title=\"Pandas Profiling Report\")"
   ]
  },
  {
   "cell_type": "markdown",
   "metadata": {
    "papermill": {
     "duration": 0.030108,
     "end_time": "2021-01-28T04:39:11.920781",
     "exception": false,
     "start_time": "2021-01-28T04:39:11.890673",
     "status": "completed"
    },
    "tags": []
   },
   "source": [
    "# Splitting data into numerical and categorical"
   ]
  },
  {
   "cell_type": "code",
   "execution_count": 6,
   "metadata": {
    "execution": {
     "iopub.execute_input": "2021-01-28T04:39:11.979532Z",
     "iopub.status.busy": "2021-01-28T04:39:11.978693Z",
     "iopub.status.idle": "2021-01-28T04:39:11.984011Z",
     "shell.execute_reply": "2021-01-28T04:39:11.984519Z"
    },
    "papermill": {
     "duration": 0.035511,
     "end_time": "2021-01-28T04:39:11.984641",
     "exception": false,
     "start_time": "2021-01-28T04:39:11.949130",
     "status": "completed"
    },
    "tags": []
   },
   "outputs": [],
   "source": [
    "quan = list( df_test.loc[:,df_test.dtypes != 'object'].drop('Id',axis=1).columns.values )\n",
    "qual = list( df_test.loc[:,df_test.dtypes == 'object'].columns.values )"
   ]
  },
  {
   "cell_type": "markdown",
   "metadata": {
    "papermill": {
     "duration": 0.030058,
     "end_time": "2021-01-28T04:39:12.039876",
     "exception": false,
     "start_time": "2021-01-28T04:39:12.009818",
     "status": "completed"
    },
    "tags": []
   },
   "source": [
    "# Let's now Filter the NaN values"
   ]
  },
  {
   "cell_type": "code",
   "execution_count": 7,
   "metadata": {
    "execution": {
     "iopub.execute_input": "2021-01-28T04:39:12.105012Z",
     "iopub.status.busy": "2021-01-28T04:39:12.103912Z",
     "iopub.status.idle": "2021-01-28T04:39:12.145945Z",
     "shell.execute_reply": "2021-01-28T04:39:12.145158Z"
    },
    "papermill": {
     "duration": 0.075763,
     "end_time": "2021-01-28T04:39:12.146081",
     "exception": false,
     "start_time": "2021-01-28T04:39:12.070318",
     "status": "completed"
    },
    "tags": []
   },
   "outputs": [
    {
     "name": "stdout",
     "output_type": "stream",
     "text": [
      "LotFrontage     486\n",
      "GarageYrBlt     159\n",
      "MasVnrArea       23\n",
      "BsmtHalfBath      2\n",
      "BsmtFullBath      2\n",
      "GarageArea        1\n",
      "GarageCars        1\n",
      "TotalBsmtSF       1\n",
      "BsmtUnfSF         1\n",
      "BsmtFinSF2        1\n",
      "BsmtFinSF1        1\n",
      "dtype: int64\n",
      "********************************************************************************\n",
      "PoolQC          2909\n",
      "MiscFeature     2814\n",
      "Alley           2721\n",
      "Fence           2348\n",
      "FireplaceQu     1420\n",
      "GarageCond       159\n",
      "GarageQual       159\n",
      "GarageFinish     159\n",
      "GarageType       157\n",
      "BsmtExposure      82\n",
      "BsmtCond          82\n",
      "BsmtQual          81\n",
      "BsmtFinType2      80\n",
      "BsmtFinType1      79\n",
      "MasVnrType        24\n",
      "MSZoning           4\n",
      "Functional         2\n",
      "Utilities          2\n",
      "Exterior1st        1\n",
      "SaleType           1\n",
      "Exterior2nd        1\n",
      "KitchenQual        1\n",
      "Electrical         1\n",
      "dtype: int64\n"
     ]
    }
   ],
   "source": [
    "# Find out how many missing values there are for the quantitative and categorical features\n",
    "hasNAN = df[quan].isnull().sum()\n",
    "hasNAN = hasNAN[hasNAN > 0]\n",
    "hasNAN = hasNAN.sort_values(ascending=False)\n",
    "print(hasNAN)\n",
    "print('**'*40)\n",
    "hasNAN = df[qual].isnull().sum()\n",
    "hasNAN = hasNAN[hasNAN > 0]\n",
    "hasNAN = hasNAN.sort_values(ascending=False)\n",
    "print(hasNAN)"
   ]
  },
  {
   "cell_type": "markdown",
   "metadata": {
    "papermill": {
     "duration": 0.03086,
     "end_time": "2021-01-28T04:39:12.208467",
     "exception": false,
     "start_time": "2021-01-28T04:39:12.177607",
     "status": "completed"
    },
    "tags": []
   },
   "source": [
    "**Filling missing values for numerical features. Most of the NAN should mean that the corresponding facillity/structure doesn't exist, so I use zero for most cases**"
   ]
  },
  {
   "cell_type": "code",
   "execution_count": 8,
   "metadata": {
    "execution": {
     "iopub.execute_input": "2021-01-28T04:39:12.276163Z",
     "iopub.status.busy": "2021-01-28T04:39:12.275108Z",
     "iopub.status.idle": "2021-01-28T04:39:12.290898Z",
     "shell.execute_reply": "2021-01-28T04:39:12.291577Z"
    },
    "papermill": {
     "duration": 0.051706,
     "end_time": "2021-01-28T04:39:12.291766",
     "exception": false,
     "start_time": "2021-01-28T04:39:12.240060",
     "status": "completed"
    },
    "tags": []
   },
   "outputs": [],
   "source": [
    "df.LotFrontage.fillna(df.LotFrontage.median(), inplace=True)\n",
    "# NAN should mean no garage. I temporarily use yr = 0 here. Will come back to this later. \n",
    "df.GarageYrBlt.fillna(0, inplace=True)\n",
    "# Use zero\n",
    "df.MasVnrArea.fillna(0, inplace=True)    \n",
    "df.BsmtHalfBath.fillna(0, inplace=True)\n",
    "df.BsmtFullBath.fillna(0, inplace=True)\n",
    "df.GarageArea.fillna(0, inplace=True)\n",
    "df.GarageCars.fillna(0, inplace=True)    \n",
    "df.TotalBsmtSF.fillna(0, inplace=True)   \n",
    "df.BsmtUnfSF.fillna(0, inplace=True)     \n",
    "df.BsmtFinSF2.fillna(0, inplace=True)    \n",
    "df.BsmtFinSF1.fillna(0, inplace=True)"
   ]
  },
  {
   "cell_type": "markdown",
   "metadata": {
    "papermill": {
     "duration": 0.031037,
     "end_time": "2021-01-28T04:39:12.354658",
     "exception": false,
     "start_time": "2021-01-28T04:39:12.323621",
     "status": "completed"
    },
    "tags": []
   },
   "source": [
    "\n",
    "# Filling missing values for categorical features"
   ]
  },
  {
   "cell_type": "code",
   "execution_count": 9,
   "metadata": {
    "execution": {
     "iopub.execute_input": "2021-01-28T04:39:12.421560Z",
     "iopub.status.busy": "2021-01-28T04:39:12.420499Z",
     "iopub.status.idle": "2021-01-28T04:39:12.509313Z",
     "shell.execute_reply": "2021-01-28T04:39:12.508436Z"
    },
    "papermill": {
     "duration": 0.123466,
     "end_time": "2021-01-28T04:39:12.509445",
     "exception": false,
     "start_time": "2021-01-28T04:39:12.385979",
     "status": "completed"
    },
    "tags": []
   },
   "outputs": [],
   "source": [
    "\n",
    "df.PoolQC.fillna('NA', inplace=True)\n",
    "df.MiscFeature.fillna('NA', inplace=True)    \n",
    "df.Alley.fillna('NA', inplace=True)          \n",
    "df.Fence.fillna('NA', inplace=True)         \n",
    "df.FireplaceQu.fillna('NA', inplace=True)    \n",
    "df.GarageCond.fillna('NA', inplace=True)    \n",
    "df.GarageQual.fillna('NA', inplace=True)     \n",
    "df.GarageFinish.fillna('NA', inplace=True)   \n",
    "df.GarageType.fillna('NA', inplace=True)     \n",
    "df.BsmtExposure.fillna('NA', inplace=True)     \n",
    "df.BsmtCond.fillna('NA', inplace=True)        \n",
    "df.BsmtQual.fillna('NA', inplace=True)        \n",
    "df.BsmtFinType2.fillna('NA', inplace=True)     \n",
    "df.BsmtFinType1.fillna('NA', inplace=True)     \n",
    "df.MasVnrType.fillna('None', inplace=True)   \n",
    "df.Exterior2nd.fillna('None', inplace=True) \n",
    "\n",
    "# These are general properties that all houses should have, so NANs probably \n",
    "# just mean the values were not recorded. I therefore use \"mode\", the most \n",
    "# common value to fill in\n",
    "df.Functional.fillna(df.Functional.mode()[0], inplace=True)       \n",
    "df.Utilities.fillna(df.Utilities.mode()[0], inplace=True)          \n",
    "df.Exterior1st.fillna(df.Exterior1st.mode()[0], inplace=True)        \n",
    "df.SaleType.fillna(df.SaleType.mode()[0], inplace=True)                \n",
    "df.KitchenQual.fillna(df.KitchenQual.mode()[0], inplace=True)        \n",
    "df.Electrical.fillna(df.Electrical.mode()[0], inplace=True)    \n",
    "\n",
    "# MSZoning should highly correlate with the location, so I use the mode values of individual \n",
    "# Neighborhoods\n",
    "for i in df.Neighborhood.unique():\n",
    "    if df.MSZoning[df.Neighborhood == i].isnull().sum() > 0:\n",
    "        df.loc[df.Neighborhood == i,'MSZoning'] = \\\n",
    "        df.loc[df.Neighborhood == i,'MSZoning'].fillna(df.loc[df.Neighborhood == i,'MSZoning'].mode()[0])"
   ]
  },
  {
   "cell_type": "markdown",
   "metadata": {
    "papermill": {
     "duration": 0.031386,
     "end_time": "2021-01-28T04:39:12.572669",
     "exception": false,
     "start_time": "2021-01-28T04:39:12.541283",
     "status": "completed"
    },
    "tags": []
   },
   "source": [
    "\n",
    "# These categorical features are \"rank\", so they can be transformed tonumerical features"
   ]
  },
  {
   "cell_type": "code",
   "execution_count": 10,
   "metadata": {
    "execution": {
     "iopub.execute_input": "2021-01-28T04:39:12.654824Z",
     "iopub.status.busy": "2021-01-28T04:39:12.653662Z",
     "iopub.status.idle": "2021-01-28T04:39:12.733714Z",
     "shell.execute_reply": "2021-01-28T04:39:12.733066Z"
    },
    "papermill": {
     "duration": 0.126297,
     "end_time": "2021-01-28T04:39:12.733877",
     "exception": false,
     "start_time": "2021-01-28T04:39:12.607580",
     "status": "completed"
    },
    "tags": []
   },
   "outputs": [],
   "source": [
    "\n",
    "df.Alley = df.Alley.map({'NA':0, 'Grvl':1, 'Pave':2})\n",
    "df.BsmtCond =  df.BsmtCond.map({'NA':0, 'Po':1, 'Fa':2, 'TA':3, 'Gd':4, 'Ex':5})\n",
    "df.BsmtExposure = df.BsmtExposure.map({'NA':0, 'No':1, 'Mn':2, 'Av':3, 'Gd':4})\n",
    "df['BsmtFinType1'] = df['BsmtFinType1'].map({'NA':0, 'Unf':1, 'LwQ':2, 'Rec':3, 'BLQ':4, 'ALQ':5, 'GLQ':6})\n",
    "df['BsmtFinType2'] = df['BsmtFinType2'].map({'NA':0, 'Unf':1, 'LwQ':2, 'Rec':3, 'BLQ':4, 'ALQ':5, 'GLQ':6})\n",
    "df.BsmtQual = df.BsmtQual.map({'NA':0, 'Po':1, 'Fa':2, 'TA':3, 'Gd':4, 'Ex':5})\n",
    "df.ExterCond = df.ExterCond.map({'Po':1, 'Fa':2, 'TA':3, 'Gd':4, 'Ex':5})\n",
    "df.ExterQual = df.ExterQual.map({'Po':1, 'Fa':2, 'TA':3, 'Gd':4, 'Ex':5})\n",
    "df.FireplaceQu = df.FireplaceQu.map({'NA':0, 'Po':1, 'Fa':2, 'TA':3, 'Gd':4, 'Ex':5})\n",
    "df.Functional = df.Functional.map({'Sal':1, 'Sev':2, 'Maj2':3, 'Maj1':4, 'Mod':5, 'Min2':6, 'Min1':7, 'Typ':8})\n",
    "df.GarageCond = df.GarageCond.map({'NA':0, 'Po':1, 'Fa':2, 'TA':3, 'Gd':4, 'Ex':5})\n",
    "df.GarageQual = df.GarageQual.map({'NA':0, 'Po':1, 'Fa':2, 'TA':3, 'Gd':4, 'Ex':5})\n",
    "df.HeatingQC = df.HeatingQC.map({'Po':1, 'Fa':2, 'TA':3, 'Gd':4, 'Ex':5})\n",
    "df.KitchenQual = df.KitchenQual.map({'Po':1, 'Fa':2, 'TA':3, 'Gd':4, 'Ex':5})\n",
    "df.LandSlope = df.LandSlope.map({'Sev':1, 'Mod':2, 'Gtl':3}) \n",
    "df.PavedDrive = df.PavedDrive.map({'N':1, 'P':2, 'Y':3})\n",
    "df.PoolQC = df.PoolQC.map({'NA':0, 'Fa':1, 'TA':2, 'Gd':3, 'Ex':4})\n",
    "df.Street = df.Street.map({'Grvl':1, 'Pave':2})\n",
    "df.Utilities = df.Utilities.map({'ELO':1, 'NoSeWa':2, 'NoSewr':3, 'AllPub':4})\n",
    "\n",
    "# Update my lists of numerical and categorical features\n",
    "newquan = ['Alley','BsmtCond','BsmtExposure','BsmtFinType1','BsmtFinType2','BsmtQual',\n",
    "           'ExterCond','ExterQual','FireplaceQu','Functional','GarageCond',\n",
    "           'GarageQual','HeatingQC','KitchenQual','LandSlope','PavedDrive','PoolQC',\n",
    "           'Street','Utilities']\n",
    "quan = quan + newquan \n",
    "for i in newquan: qual.remove(i)\n",
    "\n",
    "\n",
    "# This is actually a categorical feature\n",
    "df.MSSubClass = df.MSSubClass.map({20:'class1', 30:'class2', 40:'class3', 45:'class4',\n",
    "                                   50:'class5', 60:'class6', 70:'class7', 75:'class8',\n",
    "                                   80:'class9', 85:'class10', 90:'class11', 120:'class12',\n",
    "                                   150:'class13', 160:'class14', 180:'class15', 190:'class16'})\n",
    "\n",
    "# Keeping \"YrSold\" is enough\n",
    "df=df.drop('MoSold',axis=1)\n",
    "\n",
    "# Update my lists of numerical and categorical features\n",
    "quan.remove('MoSold')\n",
    "quan.remove('MSSubClass')\n",
    "qual.append('MSSubClass')"
   ]
  },
  {
   "cell_type": "markdown",
   "metadata": {
    "papermill": {
     "duration": 0.021655,
     "end_time": "2021-01-28T04:39:12.777643",
     "exception": false,
     "start_time": "2021-01-28T04:39:12.755988",
     "status": "completed"
    },
    "tags": []
   },
   "source": [
    "# Capturing the difference of the years rather than the year itself"
   ]
  },
  {
   "cell_type": "code",
   "execution_count": 11,
   "metadata": {
    "execution": {
     "iopub.execute_input": "2021-01-28T04:39:12.831607Z",
     "iopub.status.busy": "2021-01-28T04:39:12.830992Z",
     "iopub.status.idle": "2021-01-28T04:39:12.854981Z",
     "shell.execute_reply": "2021-01-28T04:39:12.855504Z"
    },
    "papermill": {
     "duration": 0.05593,
     "end_time": "2021-01-28T04:39:12.855642",
     "exception": false,
     "start_time": "2021-01-28T04:39:12.799712",
     "status": "completed"
    },
    "tags": []
   },
   "outputs": [],
   "source": [
    "\n",
    "df['Age'] = df.YrSold - df.YearBuilt\n",
    "df['AgeRemod'] = df.YrSold - df.YearRemodAdd\n",
    "df['AgeGarage'] = df.YrSold - df.GarageYrBlt\n",
    "\n",
    "# For the houses without a Garage, I filled the NANs with zeros, which makes AgeGarage ~ 2000\n",
    "# Here I replace their AgeGarage with the maximum value among the houses with Garages\n",
    "max_AgeGarage = np.max(df.AgeGarage[df.AgeGarage < 1000])\n",
    "df['AgeGarage'] = df['AgeGarage'].map(lambda x: max_AgeGarage if x > 1000 else x)\n",
    "\n",
    "# Some of the values are negative because the work was done after the house \n",
    "# was sold. In these cases, I change them to zero to avoid negative ages.\n",
    "df.Age = df.Age.map(lambda x: 0 if x < 0 else x)\n",
    "df.AgeRemod = df.AgeRemod.map(lambda x: 0 if x < 0 else x)\n",
    "df.AgeGarage = df.AgeGarage.map(lambda x: 0 if x < 0 else x)\n",
    "\n",
    "# drop the original time variables \n",
    "df=df.drop(['YrSold','YearBuilt','YearRemodAdd','GarageYrBlt'],axis=1)\n",
    "\n",
    "# update my list of numerical feature\n",
    "for i in ['YrSold','YearBuilt','YearRemodAdd','GarageYrBlt']: quan.remove(i)\n",
    "quan = quan + ['Age','AgeRemod','AgeGarage']"
   ]
  },
  {
   "cell_type": "code",
   "execution_count": null,
   "metadata": {
    "papermill": {
     "duration": 0.022594,
     "end_time": "2021-01-28T04:39:12.901415",
     "exception": false,
     "start_time": "2021-01-28T04:39:12.878821",
     "status": "completed"
    },
    "tags": []
   },
   "outputs": [],
   "source": []
  },
  {
   "cell_type": "code",
   "execution_count": 12,
   "metadata": {
    "execution": {
     "iopub.execute_input": "2021-01-28T04:39:12.948313Z",
     "iopub.status.busy": "2021-01-28T04:39:12.947653Z",
     "iopub.status.idle": "2021-01-28T04:39:12.970929Z",
     "shell.execute_reply": "2021-01-28T04:39:12.971827Z"
    },
    "papermill": {
     "duration": 0.048949,
     "end_time": "2021-01-28T04:39:12.972044",
     "exception": false,
     "start_time": "2021-01-28T04:39:12.923095",
     "status": "completed"
    },
    "tags": []
   },
   "outputs": [
    {
     "name": "stdout",
     "output_type": "stream",
     "text": [
      "7 examples in the training set are dropped.\n"
     ]
    }
   ],
   "source": [
    "index_drop = df.LotFrontage[df.LotFrontage > 300].index\n",
    "index_drop = np.append(index_drop, df.LotArea[df.LotArea > 100000].index)\n",
    "index_drop = np.append(index_drop, df.BsmtFinSF1[df.BsmtFinSF1 > 4000].index)\n",
    "index_drop = np.append(index_drop, df.TotalBsmtSF[df.TotalBsmtSF > 6000].index)\n",
    "index_drop = np.append(index_drop, df['1stFlrSF'][df['1stFlrSF'] > 4000].index)\n",
    "index_drop = np.append(index_drop, df.GrLivArea[(df.GrLivArea > 4000) & (df.SalePrice < 13)].index)\n",
    "index_drop = np.unique(index_drop)\n",
    "\n",
    "# make sure we only remove data from the training set\n",
    "index_drop = index_drop[index_drop < 1460] \n",
    "\n",
    "df = df.drop(index_drop).reset_index(drop=True)\n",
    "print(\"{} examples in the training set are dropped.\".format(len(index_drop)))"
   ]
  },
  {
   "cell_type": "markdown",
   "metadata": {
    "papermill": {
     "duration": 0.032954,
     "end_time": "2021-01-28T04:39:13.039285",
     "exception": false,
     "start_time": "2021-01-28T04:39:13.006331",
     "status": "completed"
    },
    "tags": []
   },
   "source": [
    "# Skewness"
   ]
  },
  {
   "cell_type": "code",
   "execution_count": 13,
   "metadata": {
    "execution": {
     "iopub.execute_input": "2021-01-28T04:39:13.108420Z",
     "iopub.status.busy": "2021-01-28T04:39:13.107566Z",
     "iopub.status.idle": "2021-01-28T04:39:13.180037Z",
     "shell.execute_reply": "2021-01-28T04:39:13.179324Z"
    },
    "papermill": {
     "duration": 0.108019,
     "end_time": "2021-01-28T04:39:13.180163",
     "exception": false,
     "start_time": "2021-01-28T04:39:13.072144",
     "status": "completed"
    },
    "tags": []
   },
   "outputs": [
    {
     "name": "stdout",
     "output_type": "stream",
     "text": [
      "LotFrontage: 0.76\n",
      "LotArea: 3.6\n",
      "OverallQual: 0.19\n",
      "OverallCond: 0.57\n",
      "MasVnrArea: 2.63\n",
      "BsmtFinSF1: 0.98\n",
      "BsmtFinSF2: 4.16\n",
      "BsmtUnfSF: 0.92\n",
      "TotalBsmtSF: 0.67\n",
      "1stFlrSF: 1.26\n",
      "2ndFlrSF: 0.86\n",
      "LowQualFinSF: 12.07\n",
      "GrLivArea: 1.07\n",
      "BsmtFullBath: 0.62\n",
      "BsmtHalfBath: 3.94\n",
      "FullBath: 0.17\n",
      "HalfBath: 0.69\n",
      "BedroomAbvGr: 0.33\n",
      "KitchenAbvGr: 4.3\n",
      "TotRmsAbvGrd: 0.75\n",
      "Fireplaces: 0.73\n",
      "GarageCars: -0.22\n",
      "GarageArea: 0.22\n",
      "WoodDeckSF: 1.84\n",
      "OpenPorchSF: 2.53\n",
      "EnclosedPorch: 4.0\n",
      "3SsnPorch: 11.36\n",
      "ScreenPorch: 3.94\n",
      "PoolArea: 17.67\n",
      "MiscVal: 21.94\n",
      "Alley: 4.13\n",
      "BsmtCond: -3.6\n",
      "BsmtExposure: 1.12\n",
      "BsmtFinType1: -0.15\n",
      "BsmtFinType2: 3.16\n",
      "BsmtQual: -1.27\n",
      "ExterCond: 1.31\n",
      "ExterQual: 0.78\n",
      "FireplaceQu: 0.18\n",
      "Functional: -4.96\n",
      "GarageCond: -3.38\n",
      "GarageQual: -3.26\n",
      "HeatingQC: -0.55\n",
      "KitchenQual: 0.44\n",
      "LandSlope: -4.98\n",
      "PavedDrive: -2.97\n",
      "PoolQC: 20.32\n",
      "Street: -16.18\n",
      "Utilities: -53.94\n",
      "Age: 0.6\n",
      "AgeRemod: 0.45\n",
      "AgeGarage: 0.97\n"
     ]
    }
   ],
   "source": [
    "\n",
    "# print the skewness of each numerical feature\n",
    "for i in quan:\n",
    "    print(i+': {}'.format(round(skew(df[i]),2)))\n",
    "    \n",
    "# transform those with skewness > 0.5\n",
    "skewed_features = np.array(quan)[np.abs(skew(df[quan])) > 0.5]\n",
    "df[skewed_features] = np.log1p(df[skewed_features])"
   ]
  },
  {
   "cell_type": "markdown",
   "metadata": {
    "papermill": {
     "duration": 0.033517,
     "end_time": "2021-01-28T04:39:13.247661",
     "exception": false,
     "start_time": "2021-01-28T04:39:13.214144",
     "status": "completed"
    },
    "tags": []
   },
   "source": [
    "# Creating a list of dummy variables that I will drop, which will be the last column generated from each categorical feature"
   ]
  },
  {
   "cell_type": "code",
   "execution_count": 14,
   "metadata": {
    "execution": {
     "iopub.execute_input": "2021-01-28T04:39:13.323046Z",
     "iopub.status.busy": "2021-01-28T04:39:13.321986Z",
     "iopub.status.idle": "2021-01-28T04:39:13.369906Z",
     "shell.execute_reply": "2021-01-28T04:39:13.369357Z"
    },
    "papermill": {
     "duration": 0.088802,
     "end_time": "2021-01-28T04:39:13.370026",
     "exception": false,
     "start_time": "2021-01-28T04:39:13.281224",
     "status": "completed"
    },
    "tags": []
   },
   "outputs": [],
   "source": [
    "\n",
    "dummy_drop = []\n",
    "for i in qual:\n",
    "    dummy_drop += [ i+'_'+str(df[i].unique()[-1]) ]\n",
    "\n",
    "# create dummy variables\n",
    "df = pd.get_dummies(df,columns=qual) \n",
    "# drop the last column generated from each categorical feature\n",
    "df = df.drop(dummy_drop,axis=1)"
   ]
  },
  {
   "cell_type": "code",
   "execution_count": 15,
   "metadata": {
    "execution": {
     "iopub.execute_input": "2021-01-28T04:39:13.427933Z",
     "iopub.status.busy": "2021-01-28T04:39:13.426095Z",
     "iopub.status.idle": "2021-01-28T04:39:13.505961Z",
     "shell.execute_reply": "2021-01-28T04:39:13.506533Z"
    },
    "papermill": {
     "duration": 0.112177,
     "end_time": "2021-01-28T04:39:13.506659",
     "exception": false,
     "start_time": "2021-01-28T04:39:13.394482",
     "status": "completed"
    },
    "tags": []
   },
   "outputs": [
    {
     "data": {
      "text/plain": [
       "((1453, 220), (1459, 220))"
      ]
     },
     "execution_count": 15,
     "metadata": {},
     "output_type": "execute_result"
    }
   ],
   "source": [
    "\n",
    "X_train  = df[:-1459].drop(['SalePrice','Id'], axis=1)\n",
    "y_train  = df[:-1459]['SalePrice']\n",
    "X_test  = df[-1459:].drop(['SalePrice','Id'], axis=1)\n",
    "\n",
    "# fit the training set only, then transform both the training and test sets\n",
    "scaler = RobustScaler()\n",
    "X_train[quan]= scaler.fit_transform(X_train[quan])\n",
    "X_test[quan]= scaler.transform(X_test[quan])\n",
    "\n",
    "X_train.shape, X_test.shape # now we have 220 features!"
   ]
  },
  {
   "cell_type": "code",
   "execution_count": 16,
   "metadata": {
    "execution": {
     "iopub.execute_input": "2021-01-28T04:39:13.561866Z",
     "iopub.status.busy": "2021-01-28T04:39:13.561242Z",
     "iopub.status.idle": "2021-01-28T04:39:14.426099Z",
     "shell.execute_reply": "2021-01-28T04:39:14.427261Z"
    },
    "papermill": {
     "duration": 0.896028,
     "end_time": "2021-01-28T04:39:14.427453",
     "exception": false,
     "start_time": "2021-01-28T04:39:13.531425",
     "status": "completed"
    },
    "tags": []
   },
   "outputs": [
    {
     "name": "stdout",
     "output_type": "stream",
     "text": [
      "                     Importance\n",
      "GarageQual             0.216517\n",
      "GarageCars             0.124744\n",
      "OverallQual            0.083141\n",
      "CentralAir_Y           0.061134\n",
      "KitchenQual            0.050741\n",
      "...                         ...\n",
      "MiscFeature_Gar2       0.000000\n",
      "Exterior2nd_Wd Sdng    0.000000\n",
      "MiscFeature_Othr       0.000000\n",
      "MiscFeature_Shed       0.000000\n",
      "Condition2_RRNn        0.000000\n",
      "\n",
      "[220 rows x 1 columns]\n"
     ]
    }
   ],
   "source": [
    "xgb = XGBRegressor()\n",
    "xgb.fit(X_train, y_train)\n",
    "imp = pd.DataFrame(xgb.feature_importances_ ,columns = ['Importance'],index = X_train.columns)\n",
    "imp = imp.sort_values(['Importance'], ascending = False)\n",
    "\n",
    "print(imp)"
   ]
  },
  {
   "cell_type": "code",
   "execution_count": 17,
   "metadata": {
    "execution": {
     "iopub.execute_input": "2021-01-28T04:39:14.520311Z",
     "iopub.status.busy": "2021-01-28T04:39:14.519659Z",
     "iopub.status.idle": "2021-01-28T04:44:05.496814Z",
     "shell.execute_reply": "2021-01-28T04:44:05.498277Z"
    },
    "papermill": {
     "duration": 291.031549,
     "end_time": "2021-01-28T04:44:05.498771",
     "exception": false,
     "start_time": "2021-01-28T04:39:14.467222",
     "status": "completed"
    },
    "tags": []
   },
   "outputs": [
    {
     "name": "stdout",
     "output_type": "stream",
     "text": [
      "The number of selected features is: 97\n"
     ]
    }
   ],
   "source": [
    "# Define a function to calculate RMSE\n",
    "def rmse(y_true, y_pred):\n",
    "    return np.sqrt(np.mean((y_true-y_pred)**2))\n",
    "\n",
    "# Define a function to calculate negative RMSE (as a score)\n",
    "def nrmse(y_true, y_pred):\n",
    "    return -1.0*rmse(y_true, y_pred)\n",
    "\n",
    "neg_rmse = make_scorer(nrmse)\n",
    "\n",
    "estimator = XGBRegressor()\n",
    "selector = RFECV(estimator, cv = 3, n_jobs = -1, scoring = neg_rmse)\n",
    "selector = selector.fit(X_train, y_train)\n",
    "\n",
    "print(\"The number of selected features is: {}\".format(selector.n_features_))\n",
    "\n",
    "features_kept = X_train.columns.values[selector.support_] \n",
    "X_train = X_train[features_kept]\n",
    "X_test = X_test[features_kept]"
   ]
  },
  {
   "cell_type": "code",
   "execution_count": 18,
   "metadata": {
    "execution": {
     "iopub.execute_input": "2021-01-28T04:44:05.567217Z",
     "iopub.status.busy": "2021-01-28T04:44:05.566488Z",
     "iopub.status.idle": "2021-01-28T04:44:05.569804Z",
     "shell.execute_reply": "2021-01-28T04:44:05.570489Z"
    },
    "papermill": {
     "duration": 0.040677,
     "end_time": "2021-01-28T04:44:05.570635",
     "exception": false,
     "start_time": "2021-01-28T04:44:05.529958",
     "status": "completed"
    },
    "tags": []
   },
   "outputs": [
    {
     "data": {
      "text/plain": [
       "array(['LotFrontage', 'LotArea', 'Street', 'Alley', 'LandSlope',\n",
       "       'OverallQual', 'OverallCond', 'MasVnrArea', 'ExterCond',\n",
       "       'BsmtQual', 'BsmtExposure', 'BsmtFinType1', 'BsmtFinSF1',\n",
       "       'BsmtFinType2', 'BsmtFinSF2', 'BsmtUnfSF', 'TotalBsmtSF',\n",
       "       '1stFlrSF', '2ndFlrSF', 'LowQualFinSF', 'GrLivArea',\n",
       "       'BsmtFullBath', 'BsmtHalfBath', 'FullBath', 'BedroomAbvGr',\n",
       "       'KitchenAbvGr', 'KitchenQual', 'TotRmsAbvGrd', 'Functional',\n",
       "       'FireplaceQu', 'GarageCars', 'GarageArea', 'GarageQual',\n",
       "       'PavedDrive', 'WoodDeckSF', 'OpenPorchSF', 'EnclosedPorch',\n",
       "       'ScreenPorch', 'PoolArea', 'Age', 'AgeRemod', 'AgeGarage',\n",
       "       'MSZoning_C (all)', 'MSZoning_FV', 'MSZoning_RL', 'LotShape_IR1',\n",
       "       'LotShape_Reg', 'LandContour_Bnk', 'LandContour_Lvl',\n",
       "       'LotConfig_CulDSac', 'LotConfig_FR2', 'Neighborhood_BrkSide',\n",
       "       'Neighborhood_ClearCr', 'Neighborhood_CollgCr',\n",
       "       'Neighborhood_Crawfor', 'Neighborhood_Edwards',\n",
       "       'Neighborhood_NAmes', 'Neighborhood_NWAmes',\n",
       "       'Neighborhood_NridgHt', 'Neighborhood_OldTown',\n",
       "       'Neighborhood_StoneBr', 'Neighborhood_Timber', 'Condition1_Artery',\n",
       "       'Condition1_Feedr', 'Condition1_Norm', 'Condition1_PosA',\n",
       "       'Condition1_RRAe', 'Condition2_Norm', 'HouseStyle_1.5Fin',\n",
       "       'HouseStyle_1Story', 'HouseStyle_2Story', 'HouseStyle_SLvl',\n",
       "       'RoofStyle_Gambrel', 'RoofStyle_Hip', 'Exterior1st_BrkFace',\n",
       "       'Exterior1st_CemntBd', 'Exterior1st_HdBoard',\n",
       "       'Exterior1st_MetalSd', 'Exterior2nd_Wd Shng', 'MasVnrType_BrkFace',\n",
       "       'MasVnrType_Stone', 'Foundation_BrkTil', 'Heating_Grav',\n",
       "       'CentralAir_Y', 'Electrical_FuseP', 'GarageType_Basment',\n",
       "       'GarageType_Detchd', 'GarageFinish_Unf', 'Fence_GdWo',\n",
       "       'Fence_MnPrv', 'SaleType_ConLD', 'SaleCondition_Abnorml',\n",
       "       'SaleCondition_Normal', 'SaleCondition_Partial',\n",
       "       'MSSubClass_class2', 'MSSubClass_class6', 'MSSubClass_class9'],\n",
       "      dtype=object)"
      ]
     },
     "execution_count": 18,
     "metadata": {},
     "output_type": "execute_result"
    }
   ],
   "source": [
    "\n",
    "# These are the selected features \n",
    "features_kept"
   ]
  },
  {
   "cell_type": "code",
   "execution_count": 19,
   "metadata": {
    "execution": {
     "iopub.execute_input": "2021-01-28T04:44:05.645801Z",
     "iopub.status.busy": "2021-01-28T04:44:05.645072Z",
     "iopub.status.idle": "2021-01-28T04:45:02.434263Z",
     "shell.execute_reply": "2021-01-28T04:45:02.434971Z"
    },
    "papermill": {
     "duration": 56.833897,
     "end_time": "2021-01-28T04:45:02.435127",
     "exception": false,
     "start_time": "2021-01-28T04:44:05.601230",
     "status": "completed"
    },
    "tags": []
   },
   "outputs": [
    {
     "name": "stdout",
     "output_type": "stream",
     "text": [
      "Parameters of the best_estimator:\n",
      "{'alpha': 0.34655626506402987, 'coef0': 3.9720393519506594, 'degree': 2, 'kernel': 'polynomial'}\n",
      "Mean cross-validated RMSE of the best_estimator: 0.1133259419326665\n",
      "RMSE of the whole training set: 0.0885486917634916\n"
     ]
    }
   ],
   "source": [
    "ridge = KernelRidge()\n",
    "\n",
    "parameters = {'alpha': uniform(0.05, 1.0), 'kernel': ['polynomial'], \n",
    "              'degree': [2], 'coef0':uniform(0.5, 3.5)}\n",
    "\n",
    "random_search = RandomizedSearchCV(estimator = ridge,\n",
    "                                   param_distributions = parameters,\n",
    "                                   n_iter = 1000,\n",
    "                                   cv = 3,\n",
    "                                   scoring = neg_rmse,\n",
    "                                   n_jobs = -1,\n",
    "                                   random_state=0)\n",
    "\n",
    "random_search = random_search.fit(X_train, y_train)\n",
    "\n",
    "print(\"Parameters of the best_estimator:\")\n",
    "print(random_search.best_params_)\n",
    "print(\"Mean cross-validated RMSE of the best_estimator: {}\".format(-random_search.best_score_))\n",
    "model = random_search.best_estimator_\n",
    "print(\"RMSE of the whole training set: {}\".format(rmse(y_train, model.predict(X_train))))"
   ]
  },
  {
   "cell_type": "code",
   "execution_count": 20,
   "metadata": {
    "execution": {
     "iopub.execute_input": "2021-01-28T04:45:02.518347Z",
     "iopub.status.busy": "2021-01-28T04:45:02.516999Z",
     "iopub.status.idle": "2021-01-28T04:45:02.803963Z",
     "shell.execute_reply": "2021-01-28T04:45:02.804746Z"
    },
    "papermill": {
     "duration": 0.332119,
     "end_time": "2021-01-28T04:45:02.804942",
     "exception": false,
     "start_time": "2021-01-28T04:45:02.472823",
     "status": "completed"
    },
    "tags": []
   },
   "outputs": [],
   "source": [
    "\n",
    "# Make predictions on the test set\n",
    "y_pred = np.exp(model.predict(X_test))\n",
    "output = pd.DataFrame({'Id': df_test['Id'], 'SalePrice': y_pred})\n",
    "output.to_csv('prediction.csv', index=False)"
   ]
  }
 ],
 "metadata": {
  "kernelspec": {
   "display_name": "Python 3",
   "language": "python",
   "name": "python3"
  },
  "language_info": {
   "codemirror_mode": {
    "name": "ipython",
    "version": 3
   },
   "file_extension": ".py",
   "mimetype": "text/x-python",
   "name": "python",
   "nbconvert_exporter": "python",
   "pygments_lexer": "ipython3",
   "version": "3.7.6"
  },
  "papermill": {
   "duration": 359.238411,
   "end_time": "2021-01-28T04:45:02.952443",
   "environment_variables": {},
   "exception": null,
   "input_path": "__notebook__.ipynb",
   "output_path": "__notebook__.ipynb",
   "parameters": {},
   "start_time": "2021-01-28T04:39:03.714032",
   "version": "2.1.0"
  }
 },
 "nbformat": 4,
 "nbformat_minor": 4
}
